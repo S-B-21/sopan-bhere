{
 "cells": [
  {
   "cell_type": "markdown",
   "metadata": {},
   "source": [
    "# Quetion 1"
   ]
  },
  {
   "cell_type": "markdown",
   "metadata": {},
   "source": [
    "ans: RAINBOW."
   ]
  },
  {
   "cell_type": "markdown",
   "metadata": {},
   "source": [
    "# Quetion 2"
   ]
  },
  {
   "cell_type": "code",
   "execution_count": 3,
   "metadata": {},
   "outputs": [
    {
     "name": "stdout",
     "output_type": "stream",
     "text": [
      "LETS UPGRADE\n"
     ]
    }
   ],
   "source": [
    "print(\"LETS UPGRADE\")"
   ]
  },
  {
   "cell_type": "markdown",
   "metadata": {},
   "source": [
    "# Quetion 3"
   ]
  },
  {
   "cell_type": "code",
   "execution_count": 8,
   "metadata": {},
   "outputs": [
    {
     "name": "stdout",
     "output_type": "stream",
     "text": [
      "50\n",
      "60\n",
      "PROFIT\n"
     ]
    }
   ],
   "source": [
    "a = int,input()\n",
    "b = int,input()\n",
    "if a < b:\n",
    "        print(\"PROFIT\")\n",
    "        \n",
    "elif a > b:\n",
    "        print(\"LOSS\")\n",
    "        \n",
    "else:\n",
    "        print(\"NEITHER\")\n",
    "        "
   ]
  },
  {
   "cell_type": "code",
   "execution_count": 1,
   "metadata": {},
   "outputs": [
    {
     "name": "stdout",
     "output_type": "stream",
     "text": [
      "50\n",
      "40\n",
      "LOSS\n"
     ]
    }
   ],
   "source": [
    "a = int,input()\n",
    "b = int,input()\n",
    "\n",
    "if a < b:\n",
    "        print(\"PROFIT\")\n",
    "        \n",
    "elif a > b:\n",
    "        print(\"LOSS\")\n",
    "        \n",
    "else:\n",
    "        print(\"NEITHER\")\n"
   ]
  },
  {
   "cell_type": "code",
   "execution_count": 2,
   "metadata": {},
   "outputs": [
    {
     "name": "stdout",
     "output_type": "stream",
     "text": [
      "50\n",
      "50\n",
      "NEITHER\n"
     ]
    }
   ],
   "source": [
    "a = int,input()\n",
    "b = int,input()\n",
    "\n",
    "if a < b:\n",
    "        print(\"PROFIT\")\n",
    "        \n",
    "elif a > b:\n",
    "        print(\"LOSS\")\n",
    "        \n",
    "else:\n",
    "        print(\"NEITHER\")\n"
   ]
  },
  {
   "cell_type": "markdown",
   "metadata": {},
   "source": [
    "# quetion 4\n"
   ]
  },
  {
   "cell_type": "code",
   "execution_count": 1,
   "metadata": {},
   "outputs": [
    {
     "name": "stdout",
     "output_type": "stream",
     "text": [
      "7\n",
      "560\n"
     ]
    }
   ],
   "source": [
    "a = int(input())\n",
    "\n",
    "print (a * 80)"
   ]
  },
  {
   "cell_type": "code",
   "execution_count": null,
   "metadata": {},
   "outputs": [],
   "source": []
  }
 ],
 "metadata": {
  "kernelspec": {
   "display_name": "Python 3",
   "language": "python",
   "name": "python3"
  },
  "language_info": {
   "codemirror_mode": {
    "name": "ipython",
    "version": 3
   },
   "file_extension": ".py",
   "mimetype": "text/x-python",
   "name": "python",
   "nbconvert_exporter": "python",
   "pygments_lexer": "ipython3",
   "version": "3.8.3"
  }
 },
 "nbformat": 4,
 "nbformat_minor": 4
}
